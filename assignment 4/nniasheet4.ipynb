{
 "cells": [
  {
   "cell_type": "markdown",
   "metadata": {},
   "source": [
    "# Exercise Sheet 4: Machine Learning Fundamentals & Linear Regression (Deadline: 01 Dec 23:59)"
   ]
  },
  {
   "cell_type": "markdown",
   "metadata": {},
   "source": [
    "# ML Fundamentals(7 points)\n",
    "For theoretical tasks you are encouraged to write in $\\\\LaTeX$. Jupyter notebooks support them by default. For reference, please have a look at the examples in this short excellent guide: [Typesetting Equations](http://nbviewer.jupyter.org/github/ipython/ipython/blob/3.x/examples/Notebook/Typesetting%20Equations.ipynb)\n",
    "\n",
    "Alternatively, you can upload the solutions in the written form as images and paste them inside the cells. But if you do this, **make sure** that the images are of high quality, so that we can read them without any problems."
   ]
  },
  {
   "cell_type": "markdown",
   "metadata": {},
   "source": [
    "###### 1. Sigmoid Function (1.5 points)\n",
    "The special case of the logistic function is the *sigmoid function* which is defined as:\n",
    "\n",
    "\\begin{equation*}\n",
    "  \\sigma(a) = \\frac{1}{1 + e^{-a}}\n",
    "\\end{equation*}\n",
    "\n",
    "a) Compute its gradient analytically.(0.5 points) \n",
    "\n",
    "**Answer:**\n",
    "\n",
    "$\\frac{d}{dx}\\sigma(x)=\\dfrac{d}{dx} \\left[\\dfrac{1}{1 + e^{-x}} \\right]\\\\$\n",
    " $= \\frac{d}{dx} \\left( 1 + \\mathrm{e}^{-x} \\right)^{-1}$ \n",
    " $= -(1 + e^{-x})^{-2}(-e^{-x})$\n",
    " $= \\frac{e^{-x}}{\\left(1 + e^{-x}\\right)^2}\\\\$ \n",
    " $= \\frac{1}{1 + e^{-x}\\ } \\cdot \\dfrac{e^{-x}}{1 + e^{-x}}$\n",
    " $= \\frac{1}{1 + e^{-x}\\ } \\cdot \\dfrac{(1 + e^{-x}) - 1}{1 + e^{-x}}\\\\$\n",
    " $= \\frac{1}{1 + e^{-x}\\ } \\cdot \\left( \\dfrac{1 + e^{-x}}{1 + e^{-x}} - \\dfrac{1}{1 + e^{-x}} \\right)\\\\$\n",
    " $= \\frac{1}{1 + e^{-x}\\ } \\cdot \\left( 1 - \\dfrac{1}{1 + e^{-x}} \\right)\\\\$\n",
    " $= \\sigma(x) \\cdot (1 - \\sigma(x))$ "
   ]
  },
  {
   "cell_type": "markdown",
   "metadata": {},
   "source": [
    "b) What are the inherent properties that you observe from the above computed gradient? (0.5 points) <br />\n",
    "   *Hint: Think about how would the gradient signal be for the whole domain of the sigmoid function*\n",
    "   \n",
    "   \n",
    "   **Answer:** \n",
    "  The sigmoid function satisfies a property between the derivative and itself such that it is\n",
    "  Computationally easy to perform. $\\frac{d}{dx}\\sigma(x)= \\sigma(x) \\cdot (1 - \\sigma(x))$ ?!!"
   ]
  },
  {
   "cell_type": "markdown",
   "metadata": {},
   "source": [
    "c) Prove that the sigmoid function is symmetric. (0.5 points)\n",
    "\n",
    "\n",
    " **Answer:** \n",
    "   \n",
    " symmetric means: $f(x)=-f(x)$ or $f(x)=-f(-x)$ and in the geometric sense, something is symmetric if it looks the same after a particular sequence of flips, rotations, and translations. The plot of the sigmoid function has point symmetry. \n",
    "  "
   ]
  },
  {
   "cell_type": "markdown",
   "metadata": {},
   "source": [
    "###### 2. Regularization (3.5 points)\n",
    "\n",
    "In the lecture, we've seen that we can add a *regularizer* to our cost function to avoid *over or underfitting*. For example, consider the following training criterion for linear regression:\n",
    "\n",
    "\\begin{equation*}\n",
    "  J(\\textbf{w}) = \\frac{1}{m}\\sum_{i=1}^{m} \\Vert\\hat{y}^{(i)} - y^{(i)}\\Vert^{2} + \\lambda\\Omega(\\textbf{w})\n",
    "\\end{equation*}\n",
    "where $\\Omega(\\textbf{w}) = \\textbf{w}^{T}\\textbf{w}$ is the regularizer.\n",
    "\n",
    "a) In the above criterion, what is the role of the regularization parameter $\\lambda$ on the regularizer (i.e. parameters of our model) while minimizing $J(\\textbf{w})$? (1.0 point)"
   ]
  },
  {
   "cell_type": "markdown",
   "metadata": {},
   "source": [
    "b) Is $\\lambda$ the model parameter or a hyperparameter? Justify.(0.5 points)"
   ]
  },
  {
   "cell_type": "markdown",
   "metadata": {},
   "source": [
    "c) Derive the closed form solution for the weights ($\\textbf{w}$) in the above criterion.(2.0 points)"
   ]
  },
  {
   "cell_type": "markdown",
   "metadata": {},
   "source": [
    "<img id=\"image_canv\" src=\"https://raw.githubusercontent.com/rudy-kh/NNIA17-18/master/assignment%204/images/2-a.jpg\" class=\"rotate90\">"
   ]
  },
  {
   "cell_type": "code",
   "execution_count": 1,
   "metadata": {},
   "outputs": [
    {
     "data": {
      "text/html": [
       "<img src=\"https://raw.githubusercontent.com/rudy-kh/NNIA17-18/master/assignment%204/images/2-a.jpg\"/>"
      ],
      "text/plain": [
       "<IPython.core.display.Image object>"
      ]
     },
     "execution_count": 1,
     "metadata": {},
     "output_type": "execute_result"
    }
   ],
   "source": [
    "from IPython.display import Image\n",
    "Image(url=\"https://raw.githubusercontent.com/rudy-kh/NNIA17-18/master/assignment%204/images/2-a.jpg\")"
   ]
  },
  {
   "cell_type": "code",
   "execution_count": 2,
   "metadata": {},
   "outputs": [
    {
     "data": {
      "text/html": [
       "<img src=\"https://raw.githubusercontent.com/rudy-kh/NNIA17-18/master/assignment%204/images/2-b-c.jpg\"/>"
      ],
      "text/plain": [
       "<IPython.core.display.Image object>"
      ]
     },
     "execution_count": 2,
     "metadata": {},
     "output_type": "execute_result"
    }
   ],
   "source": [
    "Image(url=\"https://raw.githubusercontent.com/rudy-kh/NNIA17-18/master/assignment%204/images/2-b-c.jpg\")"
   ]
  },
  {
   "cell_type": "markdown",
   "metadata": {},
   "source": [
    "###### 3. Maximum Likelihood Estimation (MLE) (2 points)\n",
    "Consider the density function of a ***univariate Gaussian distribution***\n",
    "\n",
    "\n",
    "\\begin{equation*}\n",
    " p(x;\\mu,\\sigma^2) = \\frac{1}{\\sqrt{2\\pi\\sigma^2}}exp\\left(-\\frac{1}{2\\sigma^2}(x-\\mu)^{2}\\right)\n",
    "\\end{equation*}\n",
    "where $\\mu$ is the $\\textit{mean}$ and $\\sigma^{2}$ is the $\\textit{variance}$. \n",
    "\n",
    "Let's say you're given *N* samples (i.e. $x_1, x_2, x_3, ..., x_N$) which are drawn from the above stated distribution. Also, you can assume that these samples are **i.i.d** (i.e. [independent and identically distributed](https://en.wikipedia.org/wiki/Independent_and_identically_distributed_random_variables)).\n",
    "\n",
    "Now, please derive the *MLE step-by-step* for:\n",
    "\n",
    "a) *mean* $(\\mu)$. (1.0 point)"
   ]
  },
  {
   "cell_type": "code",
   "execution_count": 3,
   "metadata": {},
   "outputs": [
    {
     "data": {
      "text/html": [
       "<img src=\"https://raw.githubusercontent.com/rudy-kh/NNIA17-18/master/assignment%204/images/3-a.jpg\"/>"
      ],
      "text/plain": [
       "<IPython.core.display.Image object>"
      ]
     },
     "execution_count": 3,
     "metadata": {},
     "output_type": "execute_result"
    }
   ],
   "source": [
    "Image(url=\"https://raw.githubusercontent.com/rudy-kh/NNIA17-18/master/assignment%204/images/3-a.jpg\")"
   ]
  },
  {
   "cell_type": "markdown",
   "metadata": {},
   "source": [
    "b) *variance* $(\\sigma^2)$. (1.0 point)"
   ]
  },
  {
   "cell_type": "code",
   "execution_count": 4,
   "metadata": {},
   "outputs": [
    {
     "data": {
      "text/html": [
       "<img src=\"https://raw.githubusercontent.com/rudy-kh/NNIA17-18/master/assignment%204/images/3-b.jpg\"/>"
      ],
      "text/plain": [
       "<IPython.core.display.Image object>"
      ]
     },
     "execution_count": 4,
     "metadata": {},
     "output_type": "execute_result"
    }
   ],
   "source": [
    "Image(url=\"https://raw.githubusercontent.com/rudy-kh/NNIA17-18/master/assignment%204/images/3-b.jpg\")"
   ]
  },
  {
   "cell_type": "markdown",
   "metadata": {},
   "source": [
    "# Multiple Linear Regression (13 points)\n",
    "\n",
    "#### 1. Introduction\n",
    "As we have seen in first assignment sheet, when we have one independent (or explanatory) variable and a scalar dependent variable, it is called **simple linear regression**.\n",
    "But, when there are more than one explanatory variable (i.e. $x^{(1)}, x^{(2)}, ...,x^{(k)}$), and a single scalar dependent variable (*y*), then it's called $\\textit{multiple linear regression}$. (Please don't confuse this with *multivariate linear regression* where we predict more than one (correlated) dependent variable.)\n",
    "\n",
    "Here, we will implement a **multiple linear regression** model in Python/NumPy using the *Gradient Descent* algorithm. Particularly, we will be using $\\textit{stochastic gradient descent}$ (*SGD*) where one performs the update step using a small set of training samples of size *batch_size* which we will set to 64. This is again a hyperparameter but in this exercise we will just use a fixed batch-size of *64* (i.e. we go through the training samples sampling 64 at a time and perform gradient descent.) Such a procedure is sometimes called *mini-batch gradient descent* in the deep learning community.\n",
    "\n",
    "Going through all the training samples *once* is called an **epoch**. Ideally, the algorithm has to go through multiple epochs over the training samples, each time shuffling it, until a convergence criterion has been satisfied. <br />\n",
    "\n",
    "Here, we will set a *tolerance value* for the difference in error (i.e. change in MSE values between subsequent epochs) that we will accept. Once this difference falls below the *tolerance value*, we terminate our training phase and return the parameters. \n",
    "\n",
    "We repeat the above training procedure for all possible hyperparameter combinations. Later on, using these parameters (*i.e. weight vectors*), we compute the prediction for validation data and the corresponding MSE values. And then, we pick the hyperparameter combination which yielded the least MSE.\n",
    "\n",
    "As a next step, we will combine training data and validation data and make it as our *new training data*. We keep the test data as it is. Using the hyperparameter combination (for the least MSE) that we found above, we train the model again with the *new training data* and obtain the parameter (*i.e. weight vector*) after convergence according to our *tolerance value*.\n",
    "\n",
    "Phew! That will be our much desired *weight vector*. This is then used on the *test data*, which has not been seen by our algorithm so far, to make a prediction. The resulting MSE value will be the so-called [*generalization error*](https://en.wikipedia.org/wiki/Generalization_error).\n",
    "\n",
    "It is this *generalization error* that we want it to be as low as possible for *unseen data* (implies that we can achieve higher accuracy)."
   ]
  },
  {
   "cell_type": "markdown",
   "metadata": {},
   "source": [
    "#### 2. Dataset\n",
    "For our task, we will be using the *Wine Quality* dataset and predict the quality of white wine based on 11 features such as acidity, citric acid content, residual sugar etc. ."
   ]
  },
  {
   "cell_type": "code",
   "execution_count": 1,
   "metadata": {
    "collapsed": true
   },
   "outputs": [],
   "source": [
    "%matplotlib inline\n",
    "import itertools\n",
    "import numpy as np\n",
    "import pandas as pd\n",
    "import matplotlib.pyplot as plt\n",
    "\n",
    "# get data\n",
    "data_url = 'http://mlr.cs.umass.edu/ml/machine-learning-databases/wine-quality/winequality-white.csv'\n",
    "data = pd.read_csv(data_url, sep=';')\n",
    "\n",
    "# inspect data\n",
    "#print(data.head())\n",
    "#print(data.shape)\n",
    "\n",
    "# data as np array\n",
    "data = data.values"
   ]
  },
  {
   "cell_type": "markdown",
   "metadata": {},
   "source": [
    "#### 3. Loss function\n",
    "We will use a *regularized* form of the MSE loss function. In matrix form it can be written as follows:\n",
    "\n",
    "\\begin{equation*}\n",
    "    J(\\textbf{w}) = \\frac{1}{2} \\Vert{X\\textbf{w}-\\textbf{y}}\\Vert^{2} + \\frac{\\lambda}{2}\\Vert{\\textbf{w}}\\Vert^{2}\n",
    "\\end{equation*}\n",
    "\n",
    "It's important to note that, in the above equation, $X$, called *design matrix*, is the horizontal concatenation of shape *(batch_size, num_features)* according to the *order* of the polynomial. To make things easier, you can add the *bias* term as the first column of $X$. Take care to have the *weight* vector $\\textbf{w}$ with matching dimensions.\n",
    "\n",
    "$\\textit{Hint}$: see [Design_matrix#Multiple_regression](https://en.wikipedia.org/wiki/Design_matrix#Multiple_regression) for how $X$ with 2 features looks like for $1^{st}$ degree polynomial."
   ]
  },
  {
   "cell_type": "markdown",
   "metadata": {},
   "source": [
    "a) Derive the gradient (w.r.t $\\textbf{w}$) for the regularized loss function given in **3**. (1.0 point)\n",
    "\n",
    "$\\bigtriangledown_{w} J(\\boldsymbol(w)) = \\boldsymbol X^T \\boldsymbol X \\boldsymbol w - \\boldsymbol X^T\\boldsymbol y + \\lambda\\boldsymbol w$"
   ]
  },
  {
   "cell_type": "markdown",
   "metadata": {},
   "source": [
    "#### 4. Matrix format for higher order polynomial\n",
    "\n",
    "Written in matrix form, linear regression model for second order would look like: <br />\n",
    "$$\\hat{\\textbf{y}} = X\\textbf{w}_{1} + X^{2}\\textbf{w}_{2} + \\textbf{b}$$\n",
    "\n",
    "where $X^{2}$ is the element-wise squaring of the original design matrix $X$, $\\textbf{w}_1$ and $\\textbf{w}_2$ are the *weight* vectors, and **b** is the *bias* vector.\n",
    "\n",
    "a) Now, please write down the matrix format for a $9^{th}$ order linear regression model (0.5 points)\n",
    "\n",
    "$$\\hat{\\textbf{y}} = X\\textbf{w}_{1} + X^{2}\\textbf{w}_{2} +  X^{3}\\textbf{w}_{3} + X^{4}\\textbf{w}_{4} + X^{5}\\textbf{w}_{5} + X^{6}\\textbf{w}_{6} + X^{7}\\textbf{w}_{7}+ X^{8}\\textbf{w}_{8} + X^{9}\\textbf{w}_{9} + \\textbf{b}$$"
   ]
  },
  {
   "cell_type": "markdown",
   "metadata": {},
   "source": [
    "#### 5. Hyperparameters\n",
    "we will experiment with three hyperparameters:\n",
    "\n",
    "i) regularization parameter $\\lambda$ <br />\n",
    "ii) learning rate $\\epsilon$ <br />\n",
    "iii) order of polynomial *p*\n",
    "\n",
    "And do a grid search over the values that these hyperparameters can take in order to select the best combination (i.e. the one that achieves lowest test error). This approach is called **hyperparameter optimization or tuning**."
   ]
  },
  {
   "cell_type": "code",
   "execution_count": 41,
   "metadata": {},
   "outputs": [
    {
     "name": "stdout",
     "output_type": "stream",
     "text": [
      "[(1, 1e-05, 0.1), (1, 1e-05, 0.8), (1, 1e-08, 0.1), (1, 1e-08, 0.8), (5, 1e-05, 0.1), (5, 1e-05, 0.8), (5, 1e-08, 0.1), (5, 1e-08, 0.8), (9, 1e-05, 0.1), (9, 1e-05, 0.8), (9, 1e-08, 0.1), (9, 1e-08, 0.8)]\n",
      "<class 'tuple'>\n"
     ]
    },
    {
     "data": {
      "text/plain": [
       "1e-05"
      ]
     },
     "execution_count": 41,
     "metadata": {},
     "output_type": "execute_result"
    }
   ],
   "source": [
    "polynomial_order = [1, 5, 9]\n",
    "learning_rates = [1e-5, 1e-8]\n",
    "lambdas = [0.1, 0.8]\n",
    "\n",
    "#polynomial_order = [1]\n",
    "#learning_rates = [0.1]\n",
    "#lambdas = [0.1]\n",
    "\n",
    "#hyperparams combination\n",
    "comb_gen = itertools.product(*(polynomial_order, learning_rates, lambdas))\n",
    "hparams_comb = list(comb_gen)\n",
    "\n",
    "print(hparams_comb)\n",
    "print(type(hparams_comb[0]))\n",
    "\n",
    "hparams_comb[0][1]"
   ]
  },
  {
   "cell_type": "markdown",
   "metadata": {},
   "source": [
    "#### 6. Normalization\n",
    "First of all, inspect the data, and understand its structure and features. Ideally, before starting to train our learning algorithm, we would want the data to be normalized. Here, we normalize the data (i.e. normalize each column) using the formula:\n",
    "\n",
    "\\begin{equation*}\n",
    "  norm\\_x_i = \\frac{x_i - min(x)}{max(x) - min(x)}\n",
    "\\end{equation*}\n",
    "where $x_i$ is the $i^{th}$ sample in feature $x$\n",
    "\n",
    "a) Complete the following function which performs normalization (i.e. normalizes columns of $X$). (0.5 points)"
   ]
  },
  {
   "cell_type": "code",
   "execution_count": 42,
   "metadata": {
    "collapsed": true
   },
   "outputs": [],
   "source": [
    "def data_normalization(data):\n",
    "    ## Debug\n",
    "    #print(np.mean(data, axis = 0))\n",
    "    #print(np.max(data, axis = 0))\n",
    "    #print(np.min(data, axis = 0))\n",
    "    \n",
    "    # TODO: implement\n",
    "    data_normalized = (data - np.mean(data, axis=0))/ (np.max(data, axis = 0) - np.min(data, axis = 0))\n",
    "    \n",
    "    return data_normalized\n",
    "\n",
    "\n",
    "# perform data normalization\n",
    "data_normalized = data_normalization(data)\n",
    "data_npr = data_normalized"
   ]
  },
  {
   "cell_type": "code",
   "execution_count": 43,
   "metadata": {
    "collapsed": true
   },
   "outputs": [],
   "source": [
    "def split_data(data_npr):\n",
    "    # (in-place) shuffling of data_npr along axis 0\n",
    "    np.random.shuffle(data_npr)\n",
    "\n",
    "    n_tr = 3898\n",
    "    n_va = n_tr + 500\n",
    "    n_te = n_va + 500\n",
    "    \n",
    "    X_train = data_npr[0:n_tr, 0:-1]\n",
    "    Y_train = data_npr[0:n_tr, -1]\n",
    "    \n",
    "    X_val = data_npr[n_tr:n_va, 0:-1]\n",
    "    Y_val = data_npr[n_tr:n_va, -1]\n",
    "    \n",
    "    X_test = data_npr[n_va:, 0:-1]\n",
    "    Y_test = data_npr[n_va:, -1]\n",
    "    \n",
    "    return [(X_train, Y_train), (X_val, Y_val), (X_test, Y_test)]\n",
    "\n",
    "\n",
    "# shuffle only the training data along axis 0\n",
    "def shuffle_train_data(X_train, Y_train):\n",
    "    \"\"\"called after each epoch\"\"\"\n",
    "    perm = np.random.permutation(len(Y_train))\n",
    "    Xtr_shuf = X_train[perm]\n",
    "    Ytr_shuf = Y_train[perm]\n",
    "    \n",
    "    return Xtr_shuf, Ytr_shuf"
   ]
  },
  {
   "cell_type": "markdown",
   "metadata": {},
   "source": [
    "###### 7. Implementation of required functions\n",
    "\n",
    "Complete the following function which computes the MSE value. (0.5 point) <br />\n",
    "(i.e. just a vanilla version of it.) That is, you can ignore the regularization term and also the constants $\\frac{1}{2}$"
   ]
  },
  {
   "cell_type": "code",
   "execution_count": 44,
   "metadata": {
    "collapsed": true
   },
   "outputs": [],
   "source": [
    "def compute_mse(prediction, ground_truth):\n",
    "    # TODO: implement\n",
    "    mse = np.sum(np.square(prediction - ground_truth)) / prediction.shape[0]\n",
    "    return mse"
   ]
  },
  {
   "cell_type": "markdown",
   "metadata": {},
   "source": [
    "Implement a function which computes the prediction of your model. (0.5 point)"
   ]
  },
  {
   "cell_type": "code",
   "execution_count": 45,
   "metadata": {
    "collapsed": true
   },
   "outputs": [],
   "source": [
    "def get_prediction(X, W):\n",
    "    # TODO: implement\n",
    "    Yhat = np.dot(X,W)\n",
    "    return Yhat"
   ]
  },
  {
   "cell_type": "markdown",
   "metadata": {},
   "source": [
    "Implement a function which computes the gradient of your loss function. (1.0 point) <br />\n",
    "*Hint: Just implementing the gradient computed in **3.** (a)*"
   ]
  },
  {
   "cell_type": "code",
   "execution_count": 46,
   "metadata": {
    "collapsed": true
   },
   "outputs": [],
   "source": [
    "def compute_gradient(X, Y, Yhat, W, lambda_):\n",
    "    # TODO: implement\n",
    "    gradient = np.dot(np.transpose(X), Yhat) - np.dot(np.transpose(X), Y) - lambda_ * W\n",
    "    return gradient"
   ]
  },
  {
   "cell_type": "markdown",
   "metadata": {},
   "source": [
    "Implement a function which performs a single update step of SGD. (0.5 point)"
   ]
  },
  {
   "cell_type": "code",
   "execution_count": 47,
   "metadata": {
    "collapsed": true
   },
   "outputs": [],
   "source": [
    "# Hint: avoid in-place modification\n",
    "def sgd(gradient, lr, cur_W):\n",
    "    # TODO: implement\n",
    "    new_W = cur_W - lr * gradient \n",
    "    return new_W"
   ]
  },
  {
   "cell_type": "markdown",
   "metadata": {},
   "source": [
    "Complete the following function which reformats your data as a design matrix. (0.5 point)"
   ]
  },
  {
   "cell_type": "code",
   "execution_count": 48,
   "metadata": {
    "collapsed": true
   },
   "outputs": [],
   "source": [
    "# concatenate X acc. to order of polynomial; likewise do it for W\n",
    "# where X is design matrix, W is the corresponding weight vector\n",
    "# [1 X X^2 X^3], [1 W1 W2 W3].T\n",
    "def prepare_data_matrix(X, W, order):\n",
    "    # TODO: implement\n",
    "    #print(X.shape)\n",
    "    X_mat = np.ones((X.shape[0], 1))\n",
    "    #print(X_mat.shape)\n",
    "    #print(type(X_mat))\n",
    "    W_vec = [1]\n",
    "    for i in range(order):\n",
    "        #print(np.power(X, order + 1).shape)\n",
    "        X_mat = np.append(X_mat, np.power(X, order + 1), axis=1)\n",
    "        #print(X_mat.shape)\n",
    "        W_vec = np.append(W_vec, W, axis=0)\n",
    "    return X_mat, W_vec"
   ]
  },
  {
   "cell_type": "markdown",
   "metadata": {},
   "source": [
    "###### 8. Training\n",
    "Complete the code in the following cell such that it performs **mini-batch gradient descent** on the training data for all possible hyperparameter combinations. (4.0 points)\n",
    "\n",
    "Note: You can also define a function, named appropriately, which performs training. But, take care to do correct bookkeeping of hyperparameter combinations, weight vectors, and the MSE values."
   ]
  },
  {
   "cell_type": "code",
   "execution_count": 52,
   "metadata": {},
   "outputs": [
    {
     "name": "stdout",
     "output_type": "stream",
     "text": [
      "order: 1 , learning rate: 1e-05 , regularizer: 0.1 \n",
      "Convergence after epoch 58 with MSE 0.03688413741758663 \n",
      "\n",
      "order: 1 , learning rate: 1e-05 , regularizer: 0.8 \n",
      "Convergence after epoch 59 with MSE 0.036772480960128265 \n",
      "\n",
      "order: 1 , learning rate: 1e-08 , regularizer: 0.1 \n",
      "Convergence after epoch 1 with MSE 1.0798108622501756 \n",
      "\n",
      "order: 1 , learning rate: 1e-08 , regularizer: 0.8 \n",
      "Convergence after epoch 1 with MSE 1.079811782515456 \n",
      "\n",
      "order: 5 , learning rate: 1e-05 , regularizer: 0.1 \n",
      "Convergence after epoch 58 with MSE 0.050825706427224115 \n",
      "\n",
      "order: 5 , learning rate: 1e-05 , regularizer: 0.8 \n",
      "Convergence after epoch 58 with MSE 0.05231058172276825 \n",
      "\n",
      "order: 5 , learning rate: 1e-08 , regularizer: 0.1 \n",
      "Convergence after epoch 1 with MSE 1.0385860691671116 \n",
      "\n",
      "order: 5 , learning rate: 1e-08 , regularizer: 0.8 \n",
      "Convergence after epoch 1 with MSE 1.0385869434694455 \n",
      "\n",
      "order: 9 , learning rate: 1e-05 , regularizer: 0.1 \n",
      "Convergence after epoch 57 with MSE 0.05712624949844575 \n",
      "\n",
      "order: 9 , learning rate: 1e-05 , regularizer: 0.8 \n",
      "Convergence after epoch 58 with MSE 0.05796663623694463 \n",
      "\n",
      "order: 9 , learning rate: 1e-08 , regularizer: 0.1 \n",
      "Convergence after epoch 1 with MSE 1.0378684539439205 \n",
      "\n",
      "order: 9 , learning rate: 1e-08 , regularizer: 0.8 \n",
      "Convergence after epoch 1 with MSE 1.037869352738748 \n",
      "\n"
     ]
    }
   ],
   "source": [
    "splits = split_data(data_npr)\n",
    "X_train, Y_train, X_val, Y_val, X_test, Y_test = itertools.chain(*splits)\n",
    "\n",
    "tolerance = 1e-3\n",
    "start = 1\n",
    "\n",
    "# initialize weight vector from normal distribution\n",
    "# TODO: implement\n",
    "w_shape = X_train.shape[1]\n",
    "W_init = np.random.randn(w_shape)\n",
    "# cache weights for each hyperparam combination\n",
    "# TODO: implement\n",
    "weights_hist = {key: None for key in hparams_comb}\n",
    "nsamples = X_train.shape[0]\n",
    "# keep track of MSE for each hparam combination. will be useful for plotting\n",
    "# TODO: implement\n",
    "mse_hist = {key: [] for key in hparams_comb}\n",
    "\n",
    "# find optimal hyperparameters\n",
    "for order in polynomial_order:\n",
    "    for lr in learning_rates:\n",
    "        for lamb in lambdas:\n",
    "            # initialize necessary stuffs\n",
    "            # TODO: implement\n",
    "            key = order, lr, lamb\n",
    "            batch_size = 64\n",
    "            # design matrix needed at this point\n",
    "            # use the function that we defined above\n",
    "            # TODO: implement\n",
    "            X_train_temp, W_temp = prepare_data_matrix(X_train, W_init, order)\n",
    "            \n",
    "            initial_prediction = get_prediction(X_train_temp, W_temp)\n",
    "            previous_mse = compute_mse(initial_prediction, Y_train)\n",
    "            mse_hist[key] = mse_hist[key] + [previous_mse]\n",
    "            \n",
    "            epochs = 1\n",
    "            # goes through multiple epochs\n",
    "            while True:\n",
    "                # good idea to shuffle the train data\n",
    "                # TODO: implement\n",
    "                X_train_epoch, Y_train_epoch = shuffle_train_data(X_train_temp, Y_train)\n",
    "                # some more initialization\n",
    "                # TODO: implement\n",
    "                bs = 0 \n",
    "                # goes through 1 epoch\n",
    "                while bs < nsamples:\n",
    "                    # complete code for 1 epoch\n",
    "                    # TODO: implement\n",
    "                    # Take data for a single batch\n",
    "                    if(nsamples - bs > batch_size):\n",
    "                        X_batch = X_train_epoch[bs : bs + batch_size - 1,]\n",
    "                        Y_batch = Y_train_epoch[bs : bs + batch_size - 1,]\n",
    "                    else:\n",
    "                        X_batch = X_train_epoch[bs : nsamples, ]\n",
    "                        Y_batch = Y_train_epoch[bs : nsamples, ]\n",
    "                    \n",
    "                    # Do gradient descent using the batch samples\n",
    "                    Yhat_batch = get_prediction(X_batch, W_temp)\n",
    "                    gradient_batch = compute_gradient(X_batch, Y_batch, Yhat_batch, W_temp, lamb)\n",
    "                    W_temp = sgd(gradient_batch, lr, W_temp)\n",
    "                    bs += batch_size\n",
    "                # after each epoch\n",
    "                # get prediction for whole X_train\n",
    "                # compute the MSE\n",
    "                # might need to do bookkeeping of mse values as well\n",
    "                Yhat_epoch = get_prediction(X_train_temp, W_temp)\n",
    "                current_mse = compute_mse(Yhat_epoch, Y_train)\n",
    "                \n",
    "                diff_in_mse = np.abs(previous_mse - current_mse)\n",
    "                #print(diff_in_mse)\n",
    "                mse_hist[key] = mse_hist[key] + [current_mse]\n",
    "                \n",
    "                previous_mse = current_mse\n",
    "                #print(diff_in_mse)\n",
    "                # stopping/convergence criterion\n",
    "                # check whether diff-in-mse < tolerance\n",
    "                # TODO: implement\n",
    "                if(diff_in_mse < tolerance):\n",
    "                    # cache weight vector for later use\n",
    "                    # but we also need the hparam combination\n",
    "                    # TODO: implement\n",
    "                    weights_hist[key] = W_temp\n",
    "                    print(\"order: {} , learning rate: {} , regularizer: {} \".format(order, lr, lamb))\n",
    "                    print(\"Convergence after epoch {} with MSE {}\".format(epochs, previous_mse), \"\\n\")\n",
    "                    break\n",
    "                epochs += 1"
   ]
  },
  {
   "cell_type": "markdown",
   "metadata": {},
   "source": [
    "Complete the following function which selects the best hyperparameter combination (i.e. the one that gives lowest MSE on **validation data**). (0.5 point)"
   ]
  },
  {
   "cell_type": "code",
   "execution_count": 53,
   "metadata": {},
   "outputs": [
    {
     "name": "stdout",
     "output_type": "stream",
     "text": [
      "(1, 1e-05, 0.1) 0.0355296071397\n",
      "(1, 1e-05, 0.8) 0.0353302344714\n",
      "(1, 1e-08, 0.1) 1.08421233513\n",
      "(1, 1e-08, 0.8) 1.08421325546\n",
      "(5, 1e-05, 0.1) 0.0348926461394\n",
      "(5, 1e-05, 0.8) 0.0355894427049\n",
      "(5, 1e-08, 0.1) 1.03607802003\n",
      "(5, 1e-08, 0.8) 1.03607888883\n",
      "(9, 1e-05, 0.1) 0.0352414385385\n",
      "(9, 1e-05, 0.8) 0.0349258538635\n",
      "(9, 1e-08, 0.1) 1.03053882103\n",
      "(9, 1e-08, 0.8) 1.03053971049\n",
      "The best hparams combination -> order: 5 , learning rate: 1e-05 , regularizer: 0.1 with MSE: 0.03489264613940867\n"
     ]
    }
   ],
   "source": [
    "# find hparams of minimum MSE on Validation data\n",
    "def find_best_hparams(weights_hist):\n",
    "    # TODO: implement\n",
    "    hpm_best = polynomial_order[0], learning_rates[0], lambdas[0]\n",
    "    X_val_prepared,dummy = prepare_data_matrix(X_val, W_init, polynomial_order[0])\n",
    "    mse_best = compute_mse(get_prediction(X_val_prepared, weights_hist[hpm_best]),Y_val)\n",
    "    \n",
    "    for order in polynomial_order:\n",
    "        for lr in learning_rates:\n",
    "            for lamb in lambdas:\n",
    "                # TODO: implement\n",
    "                hpm = order, lr, lamb\n",
    "                X_val_prepared , dummy = prepare_data_matrix(X_val, W_init, order)\n",
    "                mse = compute_mse(get_prediction(X_val_prepared, weights_hist[hpm]),Y_val)\n",
    "                print(hpm, mse)\n",
    "                if mse < mse_best:\n",
    "                    hpm_best = order,lr,lamb\n",
    "                    mse_best = mse\n",
    "    return hpm_best, mse_best\n",
    "    \n",
    "best_hpm_combination = find_best_hparams(weights_hist)\n",
    "print(\"The best hparams combination -> order: {} , learning rate: {} , regularizer: {} with MSE: {}\".format(best_hpm_combination[0][0], best_hpm_combination[0][1], best_hpm_combination[0][2], best_hpm_combination[1]))"
   ]
  },
  {
   "cell_type": "markdown",
   "metadata": {},
   "source": [
    "###### 9. Re-Training on Train + Validation data\n",
    "Complete the following function which does re-training on the combined training and validation data. (**1 point**)"
   ]
  },
  {
   "cell_type": "code",
   "execution_count": 54,
   "metadata": {},
   "outputs": [
    {
     "name": "stdout",
     "output_type": "stream",
     "text": [
      "orde: 5 , learning rate: 1e-05 , regularizer: 0.1 \n",
      "Convergence after epoch 53 with MSE 0.03418473628643685 \n",
      "\n"
     ]
    }
   ],
   "source": [
    "# re-run the training on X_train + X_val combined\n",
    "# Later test it on X_test; That will be our best possible MSE on test data\n",
    "# this will be more or less the same training code as you did above\n",
    "# but, here we just have only one value for each hyperparameter.\n",
    "\n",
    "# TODO: implement\n",
    "\n",
    "# initialize weight vector from normal distribution\n",
    "# TODO: implement\n",
    "\n",
    "X_train = np.append(X_train, X_val, axis = 0)\n",
    "Y_train = np.append(Y_train, Y_val, axis = 0)\n",
    "\n",
    "w_shape = X_train.shape[1]\n",
    "W_init = np.random.randn(w_shape)\n",
    "\n",
    "# TODO: implement\n",
    "nsamples = X_train.shape[0]\n",
    "# keep track of MSE for each hparam combination. will be useful for plotting\n",
    "# TODO: implement\n",
    "mse_hist = []\n",
    "\n",
    "# find optimal hyperparameters\n",
    "order, lr, lamb = best_hpm_combination[0]\n",
    "\n",
    "# initialize necessary stuffs\n",
    "# TODO: implement\n",
    "batch_size = 64\n",
    "# design matrix needed at this point\n",
    "# use the function that we defined above\n",
    "# TODO: implement\n",
    "X_train_temp, W_temp = prepare_data_matrix(X_train, W_init, order)\n",
    "\n",
    "initial_prediction = get_prediction(X_train_temp, W_temp)\n",
    "previous_mse = compute_mse(initial_prediction, Y_train)\n",
    "mse_hist = mse_hist + [previous_mse]\n",
    "\n",
    "epochs = 1\n",
    "# goes through multiple epochs\n",
    "while True:\n",
    "    # good idea to shuffle the train data\n",
    "    # TODO: implement\n",
    "    X_train_epoch, Y_train_epoch = shuffle_train_data(X_train_temp, Y_train)\n",
    "    # some more initialization\n",
    "    # TODO: implement\n",
    "    bs = 0 \n",
    "    # goes through 1 epoch\n",
    "    while bs < nsamples:\n",
    "        # complete code for 1 epoch\n",
    "        # TODO: implement\n",
    "        # Take data for a single batch\n",
    "        if(nsamples - bs > batch_size):\n",
    "            X_batch = X_train_epoch[bs : bs + batch_size - 1,]\n",
    "            Y_batch = Y_train_epoch[bs : bs + batch_size - 1,]\n",
    "        else:\n",
    "            X_batch = X_train_epoch[bs : nsamples, ]\n",
    "            Y_batch = Y_train_epoch[bs : nsamples, ]\n",
    "        \n",
    "        # Do gradient descent using the batch samples\n",
    "        Yhat_batch = get_prediction(X_batch, W_temp)\n",
    "        gradient_batch = compute_gradient(X_batch, Y_batch, Yhat_batch, W_temp, lamb)\n",
    "        W_temp = sgd(gradient_batch, lr, W_temp)\n",
    "        bs += batch_size\n",
    "    # after each epoch\n",
    "    # get prediction for whole X_train\n",
    "    # compute the MSE\n",
    "    # might need to do bookkeeping of mse values as well\n",
    "    Yhat_epoch = get_prediction(X_train_temp, W_temp)\n",
    "    current_mse = compute_mse(Yhat_epoch, Y_train)\n",
    "    \n",
    "    diff_in_mse = previous_mse - current_mse\n",
    "    mse_hist = mse_hist + [current_mse]\n",
    "    \n",
    "    previous_mse = current_mse\n",
    "    #print(diff_in_mse)\n",
    "    # stopping/convergence criterion\n",
    "    # check whether diff-in-mse < tolerance\n",
    "    # TODO: implement\n",
    "    if(np.abs(diff_in_mse) < tolerance):\n",
    "        # cache weight vector for later use\n",
    "        # but we also need the hparam combination\n",
    "        # TODO: implement\n",
    "        best_weights = W_temp\n",
    "        print(\"orde: {} , learning rate: {} , regularizer: {} \".format(order, lr, lamb))\n",
    "        print(\"Convergence after epoch {} with MSE {}\".format(epochs, previous_mse), \"\\n\")\n",
    "        break\n",
    "    epochs += 1"
   ]
  },
  {
   "cell_type": "code",
   "execution_count": 55,
   "metadata": {},
   "outputs": [
    {
     "data": {
      "text/plain": [
       "[<matplotlib.lines.Line2D at 0x7fae8a19d7b8>]"
      ]
     },
     "execution_count": 55,
     "metadata": {},
     "output_type": "execute_result"
    },
    {
     "data": {
      "image/png": "[encoded data removed]",
      "text/plain": [
       "<matplotlib.figure.Figure at 0x7fae89e150f0>"
      ]
     },
     "metadata": {},
     "output_type": "display_data"
    }
   ],
   "source": [
    "# plot the convergence of MSE values using matplotlib\n",
    "# i.e. #epochs on X-axis and MSE values on Y-axis\n",
    "# TODO: implement\n",
    "\n",
    "plt.plot(mse_hist)"
   ]
  },
  {
   "cell_type": "markdown",
   "metadata": {},
   "source": [
    "###### 10. Evaluation on Test set\n",
    "Evaluate your model on test data. (1.0 point)\n",
    "\n",
    "**Please note that you should keep X_test undisturbed throughout this whole phase.** Else restart the kernel and start from beginning. The whole point of this exercise would not make sense if test data has been *seen in training*."
   ]
  },
  {
   "cell_type": "code",
   "execution_count": 56,
   "metadata": {},
   "outputs": [
    {
     "name": "stdout",
     "output_type": "stream",
     "text": [
      "Finally!!! MSE achieved on X_test is : 0.03435\n"
     ]
    }
   ],
   "source": [
    "# finally!!!\n",
    "# test it on X_test with the Weight vector that you found above\n",
    "# this will be the generalization error of our model!!\n",
    "# TODO: implement\n",
    "\n",
    "X_test_temp, dummy = prepare_data_matrix(X_test, W_init, order)\n",
    "\n",
    "Yhat_test = get_prediction(X_test_temp, best_weights)\n",
    "mse_test = compute_mse(Yhat_test, Y_test)\n",
    "print(\"Finally!!! MSE achieved on X_test is : {}\".format(round(mse_test, 6)))"
   ]
  },
  {
   "cell_type": "markdown",
   "metadata": {},
   "source": [
    "###### 11. Results\n",
    "Please report the following\n",
    "\n",
    "a) MSE value on Test data. (0.5 points)\n",
    "\n",
    "MSE value on test data is 0.03435"
   ]
  },
  {
   "cell_type": "markdown",
   "metadata": {},
   "source": [
    "b) Which hyperparameter combination turned out to be the best? In your understanding, why do you think such a combination turned out to be the best for this task? (1.0 point)\n",
    "\n",
    "The best hyperparameter combination for this case based on hyperparameter search is order: 5 , learning rate: 1e-05 , regularizer: 0.1\n",
    "\n",
    "this combination is turned out to be the best because to get the best MSE in validation data, the model should take the best stance in terms of not too overfit and also not too underfit. if the model is overfit or underfit in the training data, it will has not too good MSE in validation data. so this combination is the best for this case."
   ]
  },
  {
   "cell_type": "markdown",
   "metadata": {},
   "source": [
    "# Bonus (2 points)\n",
    "\n",
    "Now, please repeat the whole *training, validation, re-training, and testing* procedure that we talked about above with the following hyperparameter combination:"
   ]
  },
  {
   "cell_type": "code",
   "execution_count": 15,
   "metadata": {
    "collapsed": true
   },
   "outputs": [],
   "source": [
    "polynomial_order = [1]\n",
    "learning_rates = [0.1]\n",
    "lambdas = [0.1]"
   ]
  },
  {
   "cell_type": "markdown",
   "metadata": {},
   "source": [
    "What are your observations during the training phase? Please explain why such a behaviour happened.\n",
    "\n",
    "The cost function is skyrocketing while SGD. This is caused by using a learning rate that is too big. Let's imagine that we are near the local minima. if we use too big learning rate, then we are overshooting the step and in this case we couldn't reach that minima. this image below can illustrate the case in a good way. \n",
    "\n",
    "![Local Minima](https://i.imgur.com/sGlGEDz.jpeg)\n",
    "\n",
    "nb: I got the image from quora"
   ]
  },
  {
   "cell_type": "markdown",
   "metadata": {},
   "source": [
    "---"
   ]
  },
  {
   "cell_type": "markdown",
   "metadata": {},
   "source": [
    "## Submission instructions\n",
    "You should provide a single Jupyter notebook as the solution. The naming should include the assignment number and matriculation IDs of all members in your team in the following format:\n",
    "**assignment-4_matriculation1_matriculation2_matriculation3.ipynb** (in case of 3 members in a team). \n",
    "Make sure to keep the order matriculation1_matriculation2_matriculation3 the same for all assignments.\n",
    "\n",
    "Please submit the solution to your tutor (with **[NNIA][assignment-4]** in email subject):\n",
    "1. Maksym Andriushchenko <s8mmandr@stud.uni-saarland.de>\n",
    "2. Marius Mosbach <s9msmosb@stud.uni-saarland.de>\n",
    "3. Rajarshi Biswas <rbisw17@gmail.com>\n",
    "4. Marimuthu Kalimuthu <s8makali@stud.uni-saarland.de>\n",
    "\n",
    "Note: **If you are in a team, please submit only 1 solution to only 1 tutor.**"
   ]
  }
 ],
 "metadata": {
  "kernelspec": {
   "display_name": "Python 3",
   "language": "python",
   "name": "python3"
  },
  "language_info": {
   "codemirror_mode": {
    "name": "ipython",
    "version": 3
   },
   "file_extension": ".py",
   "mimetype": "text/x-python",
   "name": "python",
   "nbconvert_exporter": "python",
   "pygments_lexer": "ipython3",
   "version": "3.6.2"
  }
 },
 "nbformat": 4,
 "nbformat_minor": 2
}
